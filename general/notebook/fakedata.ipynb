{
 "cells": [
  {
   "cell_type": "code",
   "execution_count": 1,
   "metadata": {},
   "outputs": [],
   "source": [
    "# Imports\n",
    "import pyodbc\n",
    "import pandas as pd\n",
    "from faker import Faker\n",
    "import numpy as np"
   ]
  },
  {
   "cell_type": "code",
   "execution_count": 2,
   "metadata": {},
   "outputs": [],
   "source": [
    "# Defina os parâmetros de conexão\n",
    "SQL_CONN_SERVER = '192.168.2.193\\\\SQLDEV2019'\n",
    "SQL_DATABASE = 'PARetail'\n",
    "SQL_USER = 'airflow'\n",
    "SQL_PASS = 'airflow'\n",
    "\n",
    "SQL_TABLE_SRC =  '__Cliente'\n",
    "SQL_TABLE_DST =  'Clientes'"
   ]
  },
  {
   "cell_type": "code",
   "execution_count": 7,
   "metadata": {},
   "outputs": [],
   "source": [
    "# Crie a string de conexão\n",
    "#connection_string = f'DRIVER={{SQL Server}};SERVER={SQL_CONN_SERVER};DATABASE={SQL_DATABASE};UID={SQL_USER};PWD={SQL_PASS}'\n",
    "connection_string = (\n",
    "            f'DRIVER={{SQL Server}};'\n",
    "            f'SERVER={SQL_CONN_SERVER};'\n",
    "            f'DATABASE={SQL_DATABASE};'\n",
    "            f'UID={SQL_USER};'\n",
    "            f'PWD={SQL_PASS}'\n",
    "        )"
   ]
  },
  {
   "cell_type": "code",
   "execution_count": 4,
   "metadata": {},
   "outputs": [],
   "source": [
    "# Inicializa o Faker\n",
    "fake = Faker('pt_BR') "
   ]
  },
  {
   "cell_type": "code",
   "execution_count": 25,
   "metadata": {},
   "outputs": [],
   "source": [
    "# Estabeleça a conexão\n",
    "connection = pyodbc.connect(connection_string)"
   ]
  },
  {
   "cell_type": "markdown",
   "metadata": {},
   "source": [
    "# Clientes"
   ]
  },
  {
   "cell_type": "code",
   "execution_count": 37,
   "metadata": {},
   "outputs": [],
   "source": [
    "cursor = connection.cursor()\n",
    "\n",
    "# Execute uma consulta\n",
    "cursor.execute(\"SELECT top(30000) [ID_SQL], [TaxId4], [CardName], [Cellular], [E_Mail] FROM [dbo].[__Cliente] WHERE CardName in (select CardName FROM [dbo].[__Cliente] group by CardName having count(*) >  1)\")\n",
    "# cursor.execute(\n",
    "#     'select [ID_SQL], [TaxId4], [CardName], [Cellular], [E_Mail] FROM [dbo].[__Cliente] c where exists (select 1 from (select [TaxId4], MAX(ID_SQL) MX_ID FROM [dbo].[__Cliente] group by [TaxId4] having count(*) >  1) x where x.TaxId4=c.TaxId4 and x.MX_ID = c.ID_SQL)'\n",
    "# )\n",
    "\n",
    "rows = cursor.fetchall()\n",
    "\n",
    "\n",
    "# Atualiza os dados com valores falsos\n",
    "for row in rows:\n",
    "    id = row[0]\n",
    "    cpf_falso = fake.cpf()\n",
    "    nome_falso = fake.name()\n",
    "    celular_falso = fake.cellphone_number()\n",
    "    email_falso = fake.email()\n",
    "    cursor.execute(\n",
    "        'UPDATE [dbo].[__Cliente] SET [TaxId4] = ?, [CardName] = ?, [Cellular] = ?, [E_Mail] = ? WHERE [ID_SQL] = ?',\n",
    "        (cpf_falso, nome_falso, celular_falso, email_falso, id)\n",
    "    )\n",
    "    \n",
    "# Confirma as alterações\n",
    "connection.commit()\n",
    "\n",
    "# Fecha a conexão\n",
    "cursor.close()\n",
    "connection.close()\n"
   ]
  },
  {
   "cell_type": "markdown",
   "metadata": {},
   "source": [
    "# Vendedores"
   ]
  },
  {
   "cell_type": "code",
   "execution_count": 26,
   "metadata": {},
   "outputs": [],
   "source": [
    "cursor = connection.cursor()\n",
    "\n",
    "# Execute uma consulta\n",
    "cursor.execute(\"SELECT [codigo],[nome] from Vendedores\")\n",
    "rows = cursor.fetchall()\n",
    "\n",
    "\n",
    "# Atualiza os dados com valores falsos\n",
    "for row in rows:\n",
    "    codigo = row[0]\n",
    "    primeiro_nome_falso = fake.first_name()\n",
    "    ultimo_nome_falso = fake.last_name()\n",
    "    concat_cod_name = str(codigo) + '-' + primeiro_nome_falso \n",
    "    cursor.execute(\n",
    "        'UPDATE [dbo].[Vendedores] SET [nome] = ? WHERE [codigo] = ?',\n",
    "        (concat_cod_name, codigo)\n",
    "    )\n",
    "    # print(f\"Codigo: {codigo}, Nome: {concat_cod_name}\")\n",
    "    \n",
    "# Confirma as alterações\n",
    "connection.commit()\n",
    "\n",
    "# Fecha a conexão\n",
    "cursor.close()\n",
    "connection.close()"
   ]
  }
 ],
 "metadata": {
  "kernelspec": {
   "display_name": "Python 3",
   "language": "python",
   "name": "python3"
  },
  "language_info": {
   "codemirror_mode": {
    "name": "ipython",
    "version": 3
   },
   "file_extension": ".py",
   "mimetype": "text/x-python",
   "name": "python",
   "nbconvert_exporter": "python",
   "pygments_lexer": "ipython3",
   "version": "3.12.3"
  }
 },
 "nbformat": 4,
 "nbformat_minor": 2
}
